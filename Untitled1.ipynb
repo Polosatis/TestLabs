{
 "cells": [
  {
   "cell_type": "code",
   "execution_count": 1,
   "id": "equal-motor",
   "metadata": {
    "id": "a192365b-aa1a-4ac6-af18-b6d06f29e38f",
    "tags": []
   },
   "outputs": [
    {
     "name": "stdout",
     "output_type": "stream",
     "text": [
      "hello world 2\n"
     ]
    }
   ],
   "source": [
    "print (\"hello world 2\")"
   ]
  },
  {
   "cell_type": "code",
   "execution_count": null,
   "id": "hazardous-insulation",
   "metadata": {
    "id": "597723fa-35f7-45de-94fc-a1f277f0d933"
   },
   "outputs": [],
   "source": []
  }
 ],
 "metadata": {
  "kernelspec": {
   "display_name": "Python 3.9",
   "language": "python",
   "name": "python3"
  },
  "language_info": {
   "codemirror_mode": {
    "name": "ipython",
    "version": 3
   },
   "file_extension": ".py",
   "mimetype": "text/x-python",
   "name": "python",
   "nbconvert_exporter": "python",
   "pygments_lexer": "ipython3",
   "version": "3.9.7"
  }
 },
 "nbformat": 4,
 "nbformat_minor": 5
}
